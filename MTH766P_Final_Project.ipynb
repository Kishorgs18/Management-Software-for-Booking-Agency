{
 "cells": [
  {
   "cell_type": "markdown",
   "id": "3708fb25",
   "metadata": {
    "deletable": false,
    "editable": false,
    "nbgrader": {
     "cell_type": "markdown",
     "checksum": "c111831df33f9c4ac89e2df64b685a31",
     "grade": false,
     "grade_id": "cell-faad52516183d82b",
     "locked": true,
     "schema_version": 3,
     "solution": false,
     "task": false
    }
   },
   "source": [
    "# MTH766P: Programming in Python"
   ]
  },
  {
   "cell_type": "markdown",
   "id": "6f11b967",
   "metadata": {
    "deletable": false,
    "editable": false,
    "nbgrader": {
     "cell_type": "markdown",
     "checksum": "eabec49443725348e7c6e7614b2939d2",
     "grade": false,
     "grade_id": "cell-669698eeb3dda49c",
     "locked": true,
     "schema_version": 3,
     "solution": false,
     "task": false
    }
   },
   "source": [
    "**Please answer all the questions below by writing your own Python code. Using or copy-pasting pre-existing code from any source is not permitted, and will be considered as _plagiarism_ and addressed according to College Regulations. You are not allowed to collaborate with other students or ask for help from any other source, including, but not limited to, online forums or ChatGPT. By submitting your Notebook via QMPlus, you confirm that you have followed these rules and that the submitted code is your own work. Upon violation, you will fail this test with zero marks.**"
   ]
  },
  {
   "cell_type": "markdown",
   "id": "e0559955",
   "metadata": {
    "deletable": false,
    "editable": false,
    "nbgrader": {
     "cell_type": "markdown",
     "checksum": "88a22b19bcf0456fba33bfedd52ff8bd",
     "grade": false,
     "grade_id": "cell-8ad2e8a299d73208",
     "locked": true,
     "schema_version": 3,
     "solution": false,
     "task": false
    }
   },
   "source": [
    "### General instructions"
   ]
  },
  {
   "cell_type": "markdown",
   "id": "afafc9c0",
   "metadata": {
    "deletable": false,
    "editable": false,
    "nbgrader": {
     "cell_type": "markdown",
     "checksum": "1226381b7fb656abdb0d31d5967e4324",
     "grade": false,
     "grade_id": "cell-301929a2c741f444",
     "locked": true,
     "schema_version": 3,
     "solution": false,
     "task": false
    }
   },
   "source": [
    "First, enter your **Student ID** in the corresponding markdown field in the section \"Student information\" below.\n",
    "Then read the exercises and try to work out a solution.\n",
    "\n",
    "For **Markdown** exercises, **replace all occurrences of** `YOUR ANSWER HERE` **by valid Markdown** to answer the question.\n",
    "\n",
    "For **coding** exercises,\n",
    "**replace all occurrences of**\n",
    "```python\n",
    "### YOUR CODE HERE\n",
    "raise NotImplementedError()\n",
    "```\n",
    "**by valid Python code** to solve the problem.\n",
    "In your solution, you can **only use** built-in Python functions and **functions from modules that you have been explicitly instructed to import**.\n",
    "Importing other modules is not allowed and will result in withdrawal of the corresponding marks.\n",
    "If your code produces an error and you cannot fix it, write a comment to show that you are aware of the problem and indicate possible causes if you can.\n",
    "You can get **partial credit**, so even if you cannot solve an exercise completely, try to answer as much as you can.\n",
    "\n",
    "Finally, before you turn this problem in, make sure everything runs as expected. First, **restart the kernel** (in the menubar, select Kernel$\\rightarrow$Restart Kernel) and then **run all cells** (in the menubar, select Cell$\\rightarrow$Run All (Jupyter Notebook Version 6) or Run$\\rightarrow$Run All Cells (Jupyter Notebook Version 7)). Please **do not change the file name** when you upload your Notebook to QMPlus."
   ]
  },
  {
   "cell_type": "markdown",
   "id": "528b2200",
   "metadata": {
    "deletable": false,
    "editable": false,
    "nbgrader": {
     "cell_type": "markdown",
     "checksum": "e67c2aacdfb16f79a387e7f7fd8d5c7d",
     "grade": false,
     "grade_id": "cell-e7b69fea9a7a1734",
     "locked": true,
     "schema_version": 3,
     "solution": false,
     "task": false
    }
   },
   "source": [
    "### Student information"
   ]
  },
  {
   "cell_type": "markdown",
   "id": "d9e0aa77",
   "metadata": {
    "deletable": false,
    "editable": false,
    "nbgrader": {
     "cell_type": "markdown",
     "checksum": "6e6d36fc99a58db51181a446e1aed13d",
     "grade": false,
     "grade_id": "cell-7d75d92406f00b79",
     "locked": true,
     "schema_version": 3,
     "solution": false,
     "task": false
    }
   },
   "source": [
    "**Student ID:**"
   ]
  },
  {
   "cell_type": "markdown",
   "id": "83ccab49",
   "metadata": {
    "deletable": false,
    "nbgrader": {
     "cell_type": "markdown",
     "checksum": "463a81072db2a0453a40be92f22cb6ab",
     "grade": true,
     "grade_id": "cell-8e28eace01a51818",
     "locked": false,
     "points": 0,
     "schema_version": 3,
     "solution": true,
     "task": false
    }
   },
   "source": [
    "240620181"
   ]
  },
  {
   "cell_type": "markdown",
   "id": "cae541f2",
   "metadata": {
    "deletable": false,
    "editable": false,
    "nbgrader": {
     "cell_type": "markdown",
     "checksum": "6a1289eeac76d52b851899b109699913",
     "grade": false,
     "grade_id": "cell-6c661fe50b2ed9a6",
     "locked": true,
     "schema_version": 3,
     "solution": false,
     "task": false
    }
   },
   "source": [
    "---"
   ]
  },
  {
   "cell_type": "markdown",
   "id": "0f299b86-cd45-43ff-ac8f-260f6194cbf6",
   "metadata": {
    "deletable": false,
    "editable": false,
    "nbgrader": {
     "cell_type": "markdown",
     "checksum": "c5baaeacffb50806782026cc62968d93",
     "grade": false,
     "grade_id": "cell-574f67c9daf00888",
     "locked": true,
     "schema_version": 3,
     "solution": false,
     "task": false
    }
   },
   "source": [
    "# Final Project Assignment"
   ]
  },
  {
   "cell_type": "markdown",
   "id": "cb7aa35d-bd66-4b0c-8e1c-51d9c44bf5c1",
   "metadata": {
    "deletable": false,
    "editable": false,
    "nbgrader": {
     "cell_type": "markdown",
     "checksum": "d9bd7c934e19ee1f784a55b6df957097",
     "grade": false,
     "grade_id": "cell-26e0ee382eb8ff84",
     "locked": true,
     "schema_version": 3,
     "solution": false,
     "task": false
    }
   },
   "source": [
    "## Important information\n",
    "\n",
    "**Read the following information carefully before turning to the actual exercises. Some aspects of this final project assignment will be handled differently from the in-term exams.**"
   ]
  },
  {
   "cell_type": "markdown",
   "id": "3fcc9038-de86-4a22-b539-a9f32280758b",
   "metadata": {
    "deletable": false,
    "editable": false,
    "nbgrader": {
     "cell_type": "markdown",
     "checksum": "8b2956b22de2add2c1de5f8b3c067eae",
     "grade": false,
     "grade_id": "cell-73bbf131282af5b7",
     "locked": true,
     "schema_version": 3,
     "solution": false,
     "task": false
    }
   },
   "source": [
    "### Contribution\n",
    "\n",
    "This final project assignment is scored on a scale of 100 marks and will contribute **50 % of your final mark** for this module."
   ]
  },
  {
   "cell_type": "markdown",
   "id": "e5564486-7bd5-4a59-9af2-c05a0f7fcf66",
   "metadata": {
    "deletable": false,
    "editable": false,
    "nbgrader": {
     "cell_type": "markdown",
     "checksum": "315c7b15c03cf2929815b03d59c5351b",
     "grade": false,
     "grade_id": "cell-d2f3d7ee6c86dfd8",
     "locked": true,
     "schema_version": 3,
     "solution": false,
     "task": false
    }
   },
   "source": [
    "### Submission details\n",
    "\n",
    "This project is due by **Friday, 10 January 2025, 17:00 GMT**.\n",
    "Submissions received after this deadline will be treated in accordance with the College Regulations for late submissions: Up to seven days after the deadline, late submissions will incur a penalty of 5 % of the total marks per 24 hours (or a fraction thereof). For example, a submission received on 11/01/2024 at 18:00 GMT (25 hours after the deadline) will result in a deduction of 10 marks. Any submission received more than 168 hours after the deadline will receive zero marks.\n",
    "\n",
    "The lecturer will be available to answer reasonable questions about this assignment until **Friday, 3 January 2025, 17:00 GMT**. You can contact the lecturer by email ([l.dabelow@qmul.ac.uk](mailto:l.dabelow@qmul.ac.uk)).\n",
    "\n",
    "You must use this Jupyter Notebook to answer all exercises. You are not allowed to remove any cells from this notebook. You can add Markdown or code cells as needed.\n",
    "\n",
    "You must submit this Jupyter Notebook through QMPlus, using the submission system for this assignment. You cannot submit your attempt in any other way. Files sent by other means, including email, will not be considered.\n",
    "\n",
    "You cannot submit any additional files apart from this Jupyter Notebook. The ZIP file you downloaded contains various auxiliary files that you will need for the exercises. However, there is no need to upload these auxiliary files. The original versions of these files will be merged into your submission automatically."
   ]
  },
  {
   "cell_type": "markdown",
   "id": "90d9d8dc-97a3-49ef-ae89-37d3c2948e8a",
   "metadata": {
    "deletable": false,
    "editable": false,
    "nbgrader": {
     "cell_type": "markdown",
     "checksum": "bda495ad2580a3b374420f124422aaad",
     "grade": false,
     "grade_id": "cell-d6058d1c8da0989a",
     "locked": true,
     "schema_version": 3,
     "solution": false,
     "task": false
    }
   },
   "source": [
    "### Coding style\n",
    "\n",
    "#### General recommendations\n",
    "\n",
    "When you are asked to write code, follow the best-practice approach introduced in the lectures.\n",
    "Start by thinking what the code should do and what the steps to achieve this are _without_ writing any code at first. It will be a good idea to map out your strategy using appropriate comments. Then fill in the code to implement your strategy.\n",
    "\n",
    "#### Comments\n",
    "\n",
    "Comments are an essential part of programming.\n",
    "Use appropriate comments to explain the reasoning behind your code.\n",
    "\n",
    "#### Variables\n",
    "\n",
    "Use the variable names specified in each exercise when writing your code.\n",
    "For any additional variables you define, choose meaningful, concise names.\n",
    "\n",
    "#### Functions\n",
    "\n",
    "Use the function names specified in each exercise when writing your code.\n",
    "For every function, include a docstring that briefly explains what the function does, what its arguments are, and what value(s) it returns.\n",
    "\n",
    "It is perfectly fine if you define extra auxiliary functions to carry out a task. This is to say, even if the exercise only asks you to write a function `example_function`, you are free to add other functions like `example_function_aux`, `some_other_function`, ... and use them in your implementation of `example_function`.\n",
    "Choose meaningful names for all auxiliary functions, too."
   ]
  },
  {
   "cell_type": "markdown",
   "id": "12562104-8ef3-4e03-b7bb-284c39d6d3c1",
   "metadata": {
    "deletable": false,
    "editable": false,
    "nbgrader": {
     "cell_type": "markdown",
     "checksum": "6c9932cd683dca50d2a9ed4590de1268",
     "grade": false,
     "grade_id": "cell-c35cb4ef22edc86a",
     "locked": true,
     "schema_version": 3,
     "solution": false,
     "task": false
    }
   },
   "source": [
    "### Assessment criteria\n",
    "\n",
    "The first thing I will do to evaluate your submission is to clear all outputs and run the entire notebook from the beginning to the end. It is your responsibility to ensure that the code produces **no errors**. Contrary to the in-term assessments, I will not try to fix any errors when assessing your work because you have several weeks to develop this project. Instead, you will receive **zero marks for any exercises where the code cell raises an error**. If you run into an error and do not know how to fix it, comment out the critical line of code and any subsequent ones that depend on it. Add a remark indicating that you are aware of the problem and potential reasons.\n",
    "\n",
    "If you do not know how to implement a certain operation in Python,\n",
    "add a comment and explain in plain English (and in sufficient detail) what you would like to do.\n",
    "You may receive partial credit for expedient ideas formulated in this way.\n",
    "If you get stuck on an intermediate step, you can still try to implement the remaining steps without the critical one (possibly in comments to avoid errors, see above).\n",
    "\n",
    "As indicated in the exercise headings below, roughly **one quarter of the marks** will be awarded for **coding style**. This includes the use of appropriate variable names, suitable comments to explain complex sequences of operations, and docstrings for functions.\n",
    "This is to say, even if your code is fully functional and solves the exercise, you may lose marks if the reasoning is not explained properly."
   ]
  },
  {
   "cell_type": "markdown",
   "id": "3c05cab1-4de7-4468-b323-a2ffcf3cc5ba",
   "metadata": {
    "deletable": false,
    "editable": false,
    "nbgrader": {
     "cell_type": "markdown",
     "checksum": "3b04e121e31068f8877c24b8f1c5e89b",
     "grade": false,
     "grade_id": "cell-43178781de20f851",
     "locked": true,
     "schema_version": 3,
     "solution": false,
     "task": false
    }
   },
   "source": [
    "### Admitted features and imports\n",
    "\n",
    "As in the in-term exams, you are free to use any Python concepts or features that are built into the language. Furthermore, you can use the _datetime_, _math_, _matplotlib.pyplot_, _numpy_, _pandas_, and _re_ packages.\n",
    "Please run the following code cell to import these modules.\n",
    "**You must not import any additional modules in any of the code you write.**"
   ]
  },
  {
   "cell_type": "code",
   "execution_count": 16,
   "id": "ece914d6-30a5-4900-ba3c-ce181b46953a",
   "metadata": {
    "deletable": false,
    "editable": false,
    "nbgrader": {
     "cell_type": "code",
     "checksum": "7afa3ab98bb2e7df134a2e73ab5cd191",
     "grade": false,
     "grade_id": "cell-82e87c69d50e1ac0",
     "locked": true,
     "schema_version": 3,
     "solution": false,
     "task": false
    }
   },
   "outputs": [],
   "source": [
    "import datetime\n",
    "import math\n",
    "import matplotlib.pyplot as plt\n",
    "import numpy as np\n",
    "import pandas as pd\n",
    "import re"
   ]
  },
  {
   "cell_type": "markdown",
   "id": "5152ea15-ea25-47b8-a0ed-f6d73bf6e94e",
   "metadata": {
    "deletable": false,
    "editable": false,
    "nbgrader": {
     "cell_type": "markdown",
     "checksum": "8a733db3267504da54fcbc782c6c958b",
     "grade": false,
     "grade_id": "cell-f18a7e40687770a9",
     "locked": true,
     "schema_version": 3,
     "solution": false,
     "task": false
    }
   },
   "source": [
    "---"
   ]
  },
  {
   "cell_type": "markdown",
   "id": "fe13a997-f958-4c56-9c0c-ef77cf81aeb9",
   "metadata": {
    "deletable": false,
    "editable": false,
    "nbgrader": {
     "cell_type": "markdown",
     "checksum": "96d2a436ee5000f3e317c2b0489809d1",
     "grade": false,
     "grade_id": "cell-c4bf186b5574b3c0",
     "locked": true,
     "schema_version": 3,
     "solution": false,
     "task": false
    }
   },
   "source": [
    "## Introduction"
   ]
  },
  {
   "cell_type": "markdown",
   "id": "d86b2aa6-5d6f-44ec-b684-d9282058fd9e",
   "metadata": {
    "deletable": false,
    "editable": false,
    "nbgrader": {
     "cell_type": "markdown",
     "checksum": "da1973499402bbe822c58f0ad217266e",
     "grade": false,
     "grade_id": "cell-202daaa034f1c886",
     "locked": true,
     "schema_version": 3,
     "solution": false,
     "task": false
    }
   },
   "source": [
    "In this project, we are going to develop components of a management software for a booking agency."
   ]
  },
  {
   "cell_type": "markdown",
   "id": "556c0cf1-f78f-4678-b0c6-43d260985025",
   "metadata": {
    "deletable": false,
    "editable": false,
    "nbgrader": {
     "cell_type": "markdown",
     "checksum": "af96489d9b7ad97b9e82711bacb3ff21",
     "grade": false,
     "grade_id": "cell-b7cfc08d332b08f9",
     "locked": true,
     "schema_version": 3,
     "solution": false,
     "task": false
    }
   },
   "source": [
    "The booking agency employs several **agents** who manage **artists** by connecting them with organizers of **events** where the artists perform. All business information of our booking agency is managed in three database files in CSV format (comma-separated values) as explained in the following. I suggest that you open these files with a text editor to have a look at them in \"raw\" format before starting with any of the coding.\n",
    "\n",
    "The file `agents.csv` contains information about the agents. Every row (except the first one with the column headers) corresponds to one agent. The different comma-separated columns store information about the agent as outlined in the following table:\n",
    "\n",
    "| column | data type | description |\n",
    "|:---|:---|:---|\n",
    "| agent_id | `int` | a unique identifier number |\n",
    "| family_name | `str` | the agent's family name |\n",
    "| given_name | `str` | the agent's given name(s) |\n",
    "| employment_start | `str` in the format `YYYY-MM-DD` | the day the agent started working for the agency |\n",
    "| employment_end | `str` in the format `YYYY-MM-DD` or empty | the day the agent stopped working for the agency, or empty if they are still working there |\n",
    "| salary | `float` (> 0) | the agent's annual base salary in GBP |\n",
    "| bonus | `float` from the interval [0, 1] | the agreed bonus salary as a fraction of the agency's income resulting from bookings of the agent |\n",
    "\n",
    "The data types listed above are the Python data types that we would like to use to store the respective values (see below).\n",
    "\n",
    "The file `artists.csv` contains information about the artists. Every row (except the first one with the column headers) corresponds to one artist:\n",
    "\n",
    "| column | data type | description |\n",
    "|:---|:---|:---|\n",
    "| artist_id | `int` | a unique identifier number |\n",
    "| family_name | `str` | the artist's family name |\n",
    "| given_name | `str` | the artist's given name(s) |\n",
    "| alias | `str` | the artist's alias or stage name (can be empty) |\n",
    "| category | `str` | the artist's entertainment field or sector (e.g., music, comedy, magic, ...) |\n",
    "| contract_start | `str` in the format `YYYY-MM-DD` | the day the artist joined the agency |\n",
    "| contract_end | `str` in the format `YYYY-MM-DD` or empty | the day the artist left the agency, or empty if they are still with the agency |\n",
    "| agent_id | `int` | the ID of the agent managing the artist |\n",
    "| commission | `float` from the interval [0, 1] | the agreed fraction of the artist's earnings that goes to the agency |\n",
    "\n",
    "The file `events.csv` lists all events booked through and managed by the agency. Every row (except the first one with the column headers) corresponds to one event:\n",
    "\n",
    "| column | data type | description |\n",
    "|:---|:---|:---|\n",
    "| event_id | `int` | a unique identifier number |\n",
    "| date | `str` in the format `YYYY-MM-DD` | the date of the event |\n",
    "| organizer | `str` | the event organizer or host |\n",
    "| place | `str` | the venue or place where the event happens |\n",
    "| artist_id | `int` | the ID of the artist performing in the event |\n",
    "| fee | `float` (> 0) | the agreed remuneration paid by the organizer to the artist (in GBP) |"
   ]
  },
  {
   "cell_type": "markdown",
   "id": "c4cf0f5f-bdb6-4e06-a199-ac5799af93ff",
   "metadata": {
    "deletable": false,
    "editable": false,
    "nbgrader": {
     "cell_type": "markdown",
     "checksum": "bcabb4be123b58cd57b1e624b926475f",
     "grade": false,
     "grade_id": "cell-dcfbad9ca16900d2",
     "locked": true,
     "schema_version": 3,
     "solution": false,
     "task": false
    }
   },
   "source": [
    "In Exercise 1, you will successively load these files into pandas DataFrames and create some simple visualization. In Exercise 2, you will develop a few routines to manage and maintain the database. In Exercise 3, you will analyze some of the agency's business figures.\n",
    "\n",
    "On a final note, it is implicitly assumed in all coding exercises that you write Python code for _all_ logical steps of the exercise. For example, if the instructions ask you to \"find the name of the agent with the highest salary and print it\", then all steps must be carried out in Python. You will not receive marks for manually searching the database for the highest salary, looking up the name, and then typing `print(\"John Sample\")` in the code cell. Instead, write your code such that it still solves the task even if the data files change."
   ]
  },
  {
   "cell_type": "markdown",
   "id": "3ab6c824-f41c-4b71-8dff-b175c70c18e5",
   "metadata": {
    "deletable": false,
    "editable": false,
    "nbgrader": {
     "cell_type": "markdown",
     "checksum": "21792a4db639e2eebf43924ecc79538a",
     "grade": false,
     "grade_id": "cell-8d434407512d3a57",
     "locked": true,
     "schema_version": 3,
     "solution": false,
     "task": false
    }
   },
   "source": [
    "## Exercise 1: Importing, exporting, and basic visualization [22 marks]"
   ]
  },
  {
   "cell_type": "markdown",
   "id": "d57a67bc-2f86-4b07-98f2-16fe0aea03ce",
   "metadata": {
    "deletable": false,
    "editable": false,
    "nbgrader": {
     "cell_type": "markdown",
     "checksum": "d96a1fc52213a5b166db188fa0938935",
     "grade": false,
     "grade_id": "cell-c20a33d8c1c253d0",
     "locked": true,
     "schema_version": 3,
     "solution": false,
     "task": false
    }
   },
   "source": [
    "In this exercise, you will load the data from the CSV files into pandas DataFrames and visualize basic relationships."
   ]
  },
  {
   "cell_type": "markdown",
   "id": "286fc2bf-1cfd-4ed6-b2f6-abba54f7f933",
   "metadata": {
    "deletable": false,
    "editable": false,
    "nbgrader": {
     "cell_type": "markdown",
     "checksum": "551108ab4e5f5b3debb99a5ca3672034",
     "grade": false,
     "grade_id": "cell-f88845c0eef01d1d",
     "locked": true,
     "schema_version": 3,
     "solution": false,
     "task": false
    }
   },
   "source": [
    "### (a) Importing agent data [5 marks incl. 0 marks for coding style]\n",
    "\n",
    "Load the `agents.csv` data file into a pandas DataFrame and assign it to the variable `agents`. Use the `agent_id` column as the DataFrame index. Display the first five entries of the table."
   ]
  },
  {
   "cell_type": "code",
   "execution_count": 25,
   "id": "2d0f5c96-ce92-443d-bd33-d8b087bde10f",
   "metadata": {
    "deletable": false,
    "nbgrader": {
     "cell_type": "code",
     "checksum": "073022d706be1e50be0b34f0ac1875a7",
     "grade": true,
     "grade_id": "cell-a5ba52cc94ad3d10",
     "locked": false,
     "points": 5,
     "schema_version": 3,
     "solution": true,
     "task": false
    }
   },
   "outputs": [
    {
     "name": "stdout",
     "output_type": "stream",
     "text": [
      "First five entries of the table:\n",
      "         family_name         given_name employment_start employment_end  \\\n",
      "agent_id                                                                  \n",
      "0               Luis              Dejah       2007-11-28            NaN   \n",
      "1            Joaquim           Catalina       2007-12-27     2019-12-16   \n",
      "2           Druckman  Blake Evander Tim       2009-12-31            NaN   \n",
      "3         Setterlund             Kermit       2010-01-16     2020-07-14   \n",
      "4          Kahlhamer            Patrick       2010-04-26     2022-04-12   \n",
      "\n",
      "            salary  bonus  \n",
      "agent_id                   \n",
      "0         139801.0  0.018  \n",
      "1          23218.2  0.022  \n",
      "2          88735.1  0.052  \n",
      "3         114461.1  0.044  \n",
      "4         116274.5  0.032  \n"
     ]
    }
   ],
   "source": [
    "#Reading the CSV file & assigning the agent_id column as the index for good organising of Data\n",
    "agents = pd.read_csv('agents.csv', index_col='agent_id')\n",
    "\n",
    "#Depicting the top 5 entry of agents table\n",
    "#Taking the head() function to check that the data has been loaded & indexed correctly\n",
    "print(\"First five entries of the table:\")\n",
    "\n",
    "#printing & displaying the entries of agents\n",
    "print(agents.head())"
   ]
  },
  {
   "cell_type": "markdown",
   "id": "f06181b0-f964-463f-ab96-9d495a4930cb",
   "metadata": {
    "deletable": false,
    "editable": false,
    "nbgrader": {
     "cell_type": "markdown",
     "checksum": "28f3475ea0468a5536a0b21fac9e0023",
     "grade": false,
     "grade_id": "cell-16309337cf4d83eb",
     "locked": true,
     "schema_version": 3,
     "solution": false,
     "task": false
    }
   },
   "source": [
    "### (b) Exporting active agents [5 marks incl. 1 mark for coding style]\n",
    "\n",
    "Pick all agents who are still working for the agency (meaning that their `employment_end` field is empty/NaN) and assign the corresponding subframe to the variable `active_agents`. Export their information to the file `active_agents.csv` using the same format as the original `agents.csv` file and also display the table of active agents."
   ]
  },
  {
   "cell_type": "code",
   "execution_count": 27,
   "id": "ec4d7ed4-6037-4428-bd0f-36d841337e07",
   "metadata": {
    "deletable": false,
    "nbgrader": {
     "cell_type": "code",
     "checksum": "51e493bb1002438004df6efc4364c853",
     "grade": true,
     "grade_id": "cell-30dc06c5dd571676",
     "locked": false,
     "points": 5,
     "schema_version": 3,
     "solution": true,
     "task": false
    }
   },
   "outputs": [
    {
     "name": "stdout",
     "output_type": "stream",
     "text": [
      "Table of active agents: \n",
      "                  family_name           given_name employment_start  \\\n",
      "agent_id                                                              \n",
      "0                        Luis                Dejah       2007-11-28   \n",
      "2                    Druckman    Blake Evander Tim       2009-12-31   \n",
      "5                 Tilt-Tovsen       Valery Kaylynn       2010-08-04   \n",
      "7                      Ruston               Frieda       2013-01-12   \n",
      "9                       Hites                Nealy       2013-05-24   \n",
      "10                      Dogra           Rena Torie       2013-07-01   \n",
      "11                     Gricus  Noel Raoul Prentiss       2013-10-04   \n",
      "13             Mohme-Pengilly            Ernestina       2015-01-29   \n",
      "18              Grecu-Rastall              Nicolas       2016-07-25   \n",
      "19                     Bronzo                Macie       2017-03-01   \n",
      "21                   Bruinsma                Grant       2017-09-06   \n",
      "24                    Holtham               Senora       2019-07-15   \n",
      "29                     Eddens               Vivian       2020-09-23   \n",
      "30        Barrientos-Baldovin                Audra       2021-02-04   \n",
      "34                     Dudick                Lesly       2021-09-06   \n",
      "37                    Perrien               Ruffus       2022-01-27   \n",
      "40                     Coburn             Johathan       2022-09-16   \n",
      "43                 Wiggington           Shea Tatum       2023-03-22   \n",
      "46                 Leonardson               Mariel       2023-11-07   \n",
      "\n",
      "         employment_end    salary  bonus  \n",
      "agent_id                                  \n",
      "0                   NaN  139801.0  0.018  \n",
      "2                   NaN   88735.1  0.052  \n",
      "5                   NaN   76729.7  0.056  \n",
      "7                   NaN   85887.7  0.076  \n",
      "9                   NaN   42847.0  0.070  \n",
      "10                  NaN  149290.2  0.066  \n",
      "11                  NaN   28859.8  0.072  \n",
      "13                  NaN  151456.2  0.090  \n",
      "18                  NaN  142328.1  0.110  \n",
      "19                  NaN   98873.1  0.098  \n",
      "21                  NaN  100428.8  0.118  \n",
      "24                  NaN  119876.6  0.122  \n",
      "29                  NaN  139813.9  0.142  \n",
      "30                  NaN  127717.6  0.126  \n",
      "34                  NaN  153820.2  0.140  \n",
      "37                  NaN   56163.3  0.132  \n",
      "40                  NaN   93360.2  0.158  \n",
      "43                  NaN  100993.6  0.140  \n",
      "46                  NaN   51942.3  0.144  \n"
     ]
    }
   ],
   "source": [
    "#Firstly checking for the active agents\n",
    "#Using the isnull() method for more concise and readable\n",
    "#isnull() method helps to identify the missing values in DataFrames\n",
    "active_agents = agents[agents['employment_end'].isnull()]\n",
    "\n",
    "#Secondly Save this to CSV\n",
    "#Writing the concise data to [active_agents.csv] by retaining the original CSV format\n",
    "active_agents.to_csv('active_agents.csv', index=True)\n",
    "\n",
    "#Finally resulting the output\n",
    "#Print the cleared DataFrame for verifying it\n",
    "print(\"Table of active agents: \")\n",
    "print(active_agents)"
   ]
  },
  {
   "cell_type": "markdown",
   "id": "f64a01e0-490c-4666-a861-6bfe731f82df",
   "metadata": {
    "deletable": false,
    "editable": false,
    "nbgrader": {
     "cell_type": "markdown",
     "checksum": "e50e8e352826a9842cb5af4657622199",
     "grade": false,
     "grade_id": "cell-96892817467f5adf",
     "locked": true,
     "schema_version": 3,
     "solution": false,
     "task": false
    }
   },
   "source": [
    "### (c) Artist data and categories [5 marks incl. 2 marks for coding style]\n",
    "\n",
    "Load the `artists.csv` data file into a pandas DataFrame and assign it to the variable `artists`. Use the `artist_id` as the DataFrame index. Then create a bar plot showing the number of artists per category, with the categories sorted by frequency in descending order."
   ]
  },
  {
   "cell_type": "code",
   "execution_count": 29,
   "id": "b04c56c3-6978-4add-aaa9-1868caf5f9d0",
   "metadata": {
    "deletable": false,
    "nbgrader": {
     "cell_type": "code",
     "checksum": "152e9cc9e8127a3594d483adb9ff4008",
     "grade": true,
     "grade_id": "cell-7559fa4b4f915e1c",
     "locked": false,
     "points": 5,
     "schema_version": 3,
     "solution": true,
     "task": false
    }
   },
   "outputs": [
    {
     "name": "stdout",
     "output_type": "stream",
     "text": [
      "Artists Overview table :\n",
      "          family_name     given_name  alias category contract_start  \\\n",
      "artist_id                                                             \n",
      "0               Odowd          Neely    NaN    music     2008-07-25   \n",
      "1              Kelton       Starling    NaN    music     2008-09-01   \n",
      "2               Iding           Lela   Lela    music     2008-12-21   \n",
      "3                Leck  Keaton Bryson    NaN  theater     2009-01-11   \n",
      "4             Vivanco        Kinsley  VivaK    dance     2009-04-26   \n",
      "\n",
      "          contract_end  agent_id  commission  \n",
      "artist_id                                     \n",
      "0                  NaN         0        0.08  \n",
      "1           2022-04-16         0        0.10  \n",
      "2                  NaN         0        0.08  \n",
      "3           2022-11-25         0        0.13  \n",
      "4           2017-11-15         1        0.08  \n"
     ]
    },
    {
     "data": {
      "image/png": "[encoded data removed]",
      "text/plain": [
       "<Figure size 640x480 with 1 Axes>"
      ]
     },
     "metadata": {},
     "output_type": "display_data"
    }
   ],
   "source": [
    "#First loading the artist data\n",
    "#Going through the artists.csv file & assign artist_id as the verification for index\n",
    "artists = pd.read_csv('artists.csv', index_col='artist_id')\n",
    "\n",
    "# Depicting the some of the rows for authorisation and verification data from the table\n",
    "print(\"Artists Overview table :\")\n",
    "print(artists.head())\n",
    "\n",
    "#Then by counting the artists in every category\n",
    "#Count the number of occurrences of every category using [value_counts()]\n",
    "artist_per_category = artists['category'].value_counts()\n",
    "\n",
    "#Plotting the data\n",
    "#Creating bar plot to show the number of artists in each category\n",
    "plt.bar(artist_per_category.index, artist_per_category.values, color='green')\n",
    "\n",
    "#Providing the labels & title to the plotted graph\n",
    "#Suming up the helpful labels and a title to make the plot easy to understand.\n",
    "plt.title(\"Artists per Category in Table \", fontsize=14)\n",
    "plt.xlabel(\"Categories\", fontsize=14)\n",
    "plt.ylabel(\"Artists Number\", fontsize=14)\n",
    "\n",
    "#Next step is to Improve the appearance\n",
    "#Rotate x-axis labels for better readability and adding gridlines for clarity\n",
    "plt.xticks(rotation=45, ha='right', fontsize=10)\n",
    "plt.grid(axis='y', linestyle='--', alpha=0.7)\n",
    "\n",
    "#Next displaying the plot & Depicting the last plot\n",
    "#Provide everything fits correctly\n",
    "plt.tight_layout()  \n",
    "plt.show()"
   ]
  },
  {
   "cell_type": "markdown",
   "id": "2ac76a71-23ad-447f-864d-bebcee9aa7f6",
   "metadata": {
    "deletable": false,
    "editable": false,
    "nbgrader": {
     "cell_type": "markdown",
     "checksum": "a3be1bf66f9f0dda01c5d2ee6b40a406",
     "grade": false,
     "grade_id": "cell-9c2b44b94efd3301",
     "locked": true,
     "schema_version": 3,
     "solution": false,
     "task": false
    }
   },
   "source": [
    "### (d) Event history [7 marks incl. 2 marks for coding style]\n",
    "\n",
    "Load the `events.csv` data file into a pandas DataFrame and assign it to the variable `events`. Use the `event_id` as the DataFrame index. Then create a plot that summarizes the agency's activities over the years: The x axis should show the years and the y axis should show the corresponding number of events during each year. Include a title and meaningful axis labels."
   ]
  },
  {
   "cell_type": "code",
   "execution_count": 31,
   "id": "2032d8f2-1fef-41fc-90d9-56149dfb80fb",
   "metadata": {
    "deletable": false,
    "nbgrader": {
     "cell_type": "code",
     "checksum": "f76ee9167a8655a8945e739704364d11",
     "grade": true,
     "grade_id": "cell-42640f555219ce9e",
     "locked": false,
     "points": 7,
     "schema_version": 3,
     "solution": true,
     "task": false
    }
   },
   "outputs": [
    {
     "name": "stdout",
     "output_type": "stream",
     "text": [
      "Overview of Table:\n",
      "                date          organizer                  place  artist_id  \\\n",
      "event_id                                                                    \n",
      "0         2010-09-03  Brutal Tunes Inc.             Cutty Sark         11   \n",
      "1         2010-10-30      The Night Sky             ABBA Arena          2   \n",
      "2         2010-11-16      O-mega Events  O2 Forum Kentish Town          1   \n",
      "3         2011-01-12      The Night Sky            Dixie Queen          6   \n",
      "4         2011-03-12       Heaven & Sky        Barbican Centre         24   \n",
      "\n",
      "              fee  \n",
      "event_id           \n",
      "0          8000.0  \n",
      "1          4900.0  \n",
      "2          4100.0  \n",
      "3         11600.0  \n",
      "4         12500.0  \n"
     ]
    },
    {
     "data": {
      "image/png": "[encoded data removed]",
      "text/plain": [
       "<Figure size 640x480 with 1 Axes>"
      ]
     },
     "metadata": {},
     "output_type": "display_data"
    }
   ],
   "source": [
    "#First step to loading the event data csv file\n",
    "#Accessing [events.csv] into a DataFrame and set [event_id] as the index\n",
    "events = pd.read_csv('events.csv', index_col='event_id')\n",
    "\n",
    "#Depicting a  of the data for verification\n",
    "print(\"Overview of Table:\")\n",
    "print(events.head())\n",
    "\n",
    "#Secondly extract the year from the (date) column\n",
    "#Convert the [date] column to datetime format and forming a (year) column\n",
    "events['date'] = pd.to_datetime(events['date'], format='%Y-%m-%d')\n",
    "events['year'] = events['date'].dt.year\n",
    "\n",
    "#Next step is to count the number of events per year\n",
    "#Using value_counts() to get the number of events grouped by year and sort them in ascending order\n",
    "events_per_year = events['year'].value_counts().sort_index()\n",
    "\n",
    "#Plotting the data\n",
    "#Creating a  line plot to show the number of events per year\n",
    "plt.plot(events_per_year.index, events_per_year.values, color='red')\n",
    "\n",
    "#Fifth step is to include title & axis labels\n",
    "#Enhancing the plot with a title & axis labels\n",
    "plt.title(\"Number of Events per Year\", fontsize=16)\n",
    "plt.xlabel(\"Year\", fontsize=14)\n",
    "plt.ylabel(\"Events Number\", fontsize=14)\n",
    "\n",
    "#Next is to improving the appearance\n",
    "#Adding gridlines for clarity and rotate the x-axis labels for easier reading\n",
    "plt.xticks(events_per_year.index, rotation=45, ha='right', fontsize=12)\n",
    "plt.grid(axis='y',alpha=0.7)\n",
    "\n",
    "#Finally displaying the plot\n",
    "#Modify the arrangement and show the plot\n",
    "plt.tight_layout()\n",
    "plt.show()"
   ]
  },
  {
   "cell_type": "markdown",
   "id": "324d51ef-e2a2-4ad5-bbce-5ff4f9230fb6",
   "metadata": {
    "deletable": false,
    "editable": false,
    "nbgrader": {
     "cell_type": "markdown",
     "checksum": "b5020f3db091ba672260a30564180bd4",
     "grade": false,
     "grade_id": "cell-d48028a12187a03c",
     "locked": true,
     "schema_version": 3,
     "solution": false,
     "task": false
    }
   },
   "source": [
    "## Exercise 2: Managing agents and artists [45 marks]"
   ]
  },
  {
   "cell_type": "markdown",
   "id": "6ffe1537-87e6-46c7-a874-e4a122653bdc",
   "metadata": {
    "deletable": false,
    "editable": false,
    "nbgrader": {
     "cell_type": "markdown",
     "checksum": "77bab834a46930ec1d4cbd2b8457e714",
     "grade": false,
     "grade_id": "cell-1c355a9157966ad0",
     "locked": true,
     "schema_version": 3,
     "solution": false,
     "task": false
    }
   },
   "source": [
    "In this exercise, you will write a few functions to manipulate the data sets and extract more complex information."
   ]
  },
  {
   "cell_type": "markdown",
   "id": "b98d2bec-06c0-4a50-99d6-900f4fc2710e",
   "metadata": {
    "deletable": false,
    "editable": false,
    "nbgrader": {
     "cell_type": "markdown",
     "checksum": "9c9f8ed22ddaac8eced751210508d2f5",
     "grade": false,
     "grade_id": "cell-a65758a205846e39",
     "locked": true,
     "schema_version": 3,
     "solution": false,
     "task": false
    }
   },
   "source": [
    "### (a) Linking events to agents [10 marks incl. 3 marks for coding style]\n",
    "\n",
    "**Write a function** `list_agent_events` that takes an agent ID as well as a start date and an end date (both as strings in the format `YYYY-MM-DD`). The function should return a list of the IDs of all events happening during the specified time window that are managed by the given agent, i.e., all events where the performing artist's agent is the one with the given agent ID.\n",
    "\n",
    "For example, if the `artists` DataFrame contains entries\n",
    "| artist_id | agent_id |\n",
    "|-----------|----------|\n",
    "| 2 | 5 |\n",
    "| 3 | 5 |\n",
    "| 7 | 3 |\n",
    "| 9 | 5 |\n",
    "\n",
    "and the `events` DataFrame contains entries\n",
    "| event_id | date | artist_id |\n",
    "|---|---|---|\n",
    "| 0 | 2024-09-17 | 2 |\n",
    "| 1 | 2024-10-08 | 7 |\n",
    "| 2 | 2024-10-09 | 2 |\n",
    "| 3 | 2024-11-07 | 7 |\n",
    "| 4 | 2024-11-02 | 9 |\n",
    "\n",
    "then the call `list_agent_events(5, '2024-10-01', '2024-11-30')` should return `[2, 4]`. Going through the list of events, this is because\n",
    "- event 0 is not included since the date is outside of the range;\n",
    "- event 1 is not included since artist 7 is managed by agent 3, not agent 5;\n",
    "- event 2 is included since artist 2 is managed by agent 5 and 2024-10-09 is between 2024-10-01 and 2024-11-30;\n",
    "- event 3 is not included since artist 7 is managed by agent 3, not agent 5;\n",
    "- event 4 is included since artist 9 is managed by agent 5 and 2024-11-02 is between 2024-10-01 and 2024-11-30.\n",
    "\n",
    "**Test your function** by listing the event IDs of all events managed by the agent with agent ID 0 (zero) between 1 January 2014 and 31 December 2018."
   ]
  },
  {
   "cell_type": "code",
   "execution_count": 35,
   "id": "4b1d0039-c6f8-4497-9e62-a11e4378c17c",
   "metadata": {
    "deletable": false,
    "nbgrader": {
     "cell_type": "code",
     "checksum": "2a5796e0b161f07d04036009333e23bd",
     "grade": true,
     "grade_id": "cell-ac97ed78e7a1fcd4",
     "locked": false,
     "points": 10,
     "schema_version": 3,
     "solution": true,
     "task": false
    }
   },
   "outputs": [
    {
     "name": "stdout",
     "output_type": "stream",
     "text": [
      "Event ID's that Agent 5 oversaw from October 1, 2024, to November 30, 2024: [2, 4]\n"
     ]
    }
   ],
   "source": [
    "# Define the function which has given [list_agent_events] & adding some doc strings that includes line of explaination of agent_id ,start_date, end_date\n",
    "#With some adding lists of ID's\n",
    "def list_agent_events(agent_id, start_date, end_date):\n",
    "    \"\"\"\n",
    "    This function provides a list of event IDs within a specified date range that are monitored by a certain agent.\n",
    "    Specifications:\n",
    "    - agent_id: The agent's identification.\n",
    "    - start_date: The beginning of the date range [YYYY-MM-DD] is indicated by the date_of_starting.\n",
    "    - end_date: YYYY-MM-DD is the end of the date range.\n",
    "\n",
    "    Lists: A list of event IDs that meet the requirements is returned.\n",
    "    \"\"\"\n",
    "    \n",
    "    #1st step is to filtering artists under the designated agent's management\n",
    "    managed_artists = artists[artists['agent_id'] == agent_id]\n",
    "    #Extracting management's id\n",
    "    managed_artist_ids = managed_artists.index  \n",
    "\n",
    "    #Secondly sorting events within the range of date\n",
    "    filtered_events = events[\n",
    "        (events['date'] >= start_date) &\n",
    "        (events['date'] <= end_date) &\n",
    "        (events['artist_id'].isin(managed_artist_ids))\n",
    "    ]\n",
    "\n",
    "    #Now returning the list of filtered event IDs\n",
    "    return filtered_events.index.tolist()\n",
    "\n",
    "#Check the function & Some example data for artists DataFrame\n",
    "artists_data = {\n",
    "    'artist_id': [2, 3, 7, 9],\n",
    "    'agent_id': [5, 5, 3, 5]\n",
    "}\n",
    "artists = pd.DataFrame(artists_data).set_index('artist_id')\n",
    "\n",
    "#Likewise, few examples of events Dataframe\n",
    "events_data = {\n",
    "    'event_id': [0, 1, 2, 3, 4],\n",
    "    'date': ['2024-09-17', '2024-10-08', '2024-10-09', '2024-11-07', '2024-11-02'],\n",
    "    'artist_id': [2, 7, 2, 7, 9]\n",
    "}\n",
    "events = pd.DataFrame(events_data).set_index('event_id')\n",
    "\n",
    "# For comparison, change the [date] column to datetime\n",
    "events['date'] = pd.to_datetime(events['date'])\n",
    "\n",
    "# Testing the function by listing the event IDs of all events managed by the agent with agent ID 0 (zero) between 1 January 2014 and 31 December 2018\n",
    "result = list_agent_events(5, '2024-10-01', '2024-11-30')\n",
    "print(\"Event ID's that Agent 5 oversaw from October 1, 2024, to November 30, 2024:\", result)"
   ]
  },
  {
   "cell_type": "markdown",
   "id": "92335d06-db52-44a9-9e7e-aee0bd90634e",
   "metadata": {
    "deletable": false,
    "editable": false,
    "nbgrader": {
     "cell_type": "markdown",
     "checksum": "30386422539ef0ec1396612b8a0fb8eb",
     "grade": false,
     "grade_id": "cell-dd6f0414277b2878",
     "locked": true,
     "schema_version": 3,
     "solution": false,
     "task": false
    }
   },
   "source": [
    "### (b) Agent schedules [15 marks incl. 5 marks for coding style]"
   ]
  },
  {
   "cell_type": "markdown",
   "id": "f4948880-d499-4f57-8751-13ee86ca49a3",
   "metadata": {
    "deletable": false,
    "editable": false,
    "nbgrader": {
     "cell_type": "markdown",
     "checksum": "056f49e89bcff360e1fb11e833bda041",
     "grade": false,
     "grade_id": "cell-b5a7995f5ef30d77",
     "locked": true,
     "schema_version": 3,
     "solution": false,
     "task": false
    }
   },
   "source": [
    "<div class='alert alert-info'>\n",
    "For the following task, you can re-use the function <code>list_agent_events</code> that you developed in <strong>Exercise 2a</strong>.\n",
    "If you did not manage to write a working <code>list_agent_events</code> function,\n",
    "uncomment the second line in the subsequent code cell. This will provide a definition of <code>list_agent_events</code> that you can use in the following. Note that this definition relies on the auxiliary file <code>__ead__.csv</code>, which must be kept in the same folder as this Jupyter Notebook for the function to work properly.\n",
    "</div>"
   ]
  },
  {
   "cell_type": "code",
   "execution_count": 38,
   "id": "e699d922-6d26-49fe-a64e-26d2b59324d7",
   "metadata": {},
   "outputs": [],
   "source": [
    "# Uncomment the following line if you did not manage to write a working `list_agent_events` function in Exercise 2(b)\n",
    "list_agent_events = lambda _1,_2,_3:pd.read_csv('__ead__.csv').query(f\"a=={_1}&'{_2}'<=d&d<='{_3}'\")['e'].to_list()"
   ]
  },
  {
   "cell_type": "markdown",
   "id": "ea880f08-6447-4b87-be36-48cd5f9ff593",
   "metadata": {
    "deletable": false,
    "editable": false,
    "nbgrader": {
     "cell_type": "markdown",
     "checksum": "0eed8dae95f023228aecd76f8de5863b",
     "grade": false,
     "grade_id": "cell-45a2c50b9b4db9f8",
     "locked": true,
     "schema_version": 3,
     "solution": false,
     "task": false
    }
   },
   "source": [
    "**Write a function** `export_agent_schedule` that takes a file name and an agent ID as well as a start date and an end date (both as strings in the format `YYYY-MM-DD`). The function should create a text file with information about the agent's schedule between the start date and the end date. The file should begin with a header as follows:\n",
    "```\n",
    "Agent {agent_id}\n",
    "Name: {given_name} {family_name}\n",
    "Employed since: {employment_start} \n",
    "```\n",
    "Here the text between curly braces should be replaced by the respective fields from the `agents` DataFrame.\n",
    "\n",
    "The header should be followed by a *chronological* list of all events in the specified time window that are managed by the agent, i.e., all events performed by artists represented by the agent. Each event should be listed as follows:\n",
    "```\n",
    "{date}: {artist_name} at {place}\n",
    "Organized by: {organizer}\n",
    "```\n",
    "Here `{date}`, `{place}` and `{organizer}` should be replaced by the respective fields from the `events` DataFrame and `{artist_name}` should be replaced by the artist's `alias` or, if they don't have one, the artist's full name (given name and family name).\n",
    "For clarity of the presentation, separate individual events by an empty line.\n",
    "\n",
    "**Test your function** by exporting the schedule of the agent with ID 0 (zero) between 1 January 2024 and the present day (when the function is called) to the file `agent0_schedule.txt`."
   ]
  },
  {
   "cell_type": "code",
   "execution_count": 40,
   "id": "779ff422-477c-4744-89aa-51a4b84902b7",
   "metadata": {
    "deletable": false,
    "nbgrader": {
     "cell_type": "code",
     "checksum": "e2ee9282ced00c38649112bc43cd38af",
     "grade": true,
     "grade_id": "cell-19409957a09ebec5",
     "locked": false,
     "points": 15,
     "schema_version": 3,
     "solution": true,
     "task": false
    }
   },
   "outputs": [
    {
     "name": "stdout",
     "output_type": "stream",
     "text": [
      "Agent's schedule 0 has been effectively exported to agent0_schedule.txt.\n"
     ]
    }
   ],
   "source": [
    "#Defining a function that has given export_agent_schedule includes three parameters given above\n",
    "def export_agent_schedule(file_name, agent_id, start_date, end_date):\n",
    "    \"\"\"\n",
    "    All of the events that an agent oversees during a given time frame are listed in the schedule that is exported to a text file.\n",
    "    Specifications:\n",
    "        file_name: The name of the output text file is file_name.\n",
    "        agent_id: The ID of the agent whose schedule needs to be exported is agent_id.\n",
    "        start_date: The beginning of the YYYY-MM-DD date range.\n",
    "        end_date: End of the date range YYYY-MM-DD is indicated by end_date.\n",
    "    \"\"\"\n",
    "    #Firstly for filtering, making sure that the event dates are in datetime format\n",
    "    events['date'] = pd.to_datetime(events['date'])\n",
    "    \n",
    "    #Next step is extracting agent details by using try and except  \n",
    "    try:\n",
    "        agent = agents.loc[agent_id]\n",
    "        agent_name = f\"{agent['given_name']} {agent['family_name']}\"\n",
    "        employment_start = agent['employment_start']\n",
    "    except KeyError:\n",
    "        print(f\"Error: Agent with Id {agent_id} does not occurs.\")\n",
    "        return\n",
    "\n",
    "    #Thirdly identify artists managed by the agent and artists\n",
    "    managed_artists = artists[artists['agent_id'] == agent_id]\n",
    "    managed_artist_ids = managed_artists.index\n",
    "\n",
    "    #4th Step is to sort out the events within the particular date range for managed artists\n",
    "    filtered_events = events[\n",
    "        (events['date'] >= start_date) &\n",
    "        (events['date'] <= end_date) &\n",
    "        (events['artist_id'].isin(managed_artist_ids))].sort_values('date')\n",
    "\n",
    "    # Step 5, Acquiring the output file ready and writing it\n",
    "    try:\n",
    "        with open(file_name, 'w') as file:\n",
    "    # Included the agent's details in the header\n",
    "            file.write(f\"Agent_ID {agent_id}\\n\")\n",
    "            file.write(f\"Name of Agent: {agent_name}\\n\")\n",
    "            file.write(f\"Employed since: {employment_start}\\n\\n\")\n",
    "\n",
    "         #Writing the information of each event\n",
    "            for _, event in filtered_events.iterrows():\n",
    "                #Obtaining the artist Details\n",
    "                artist = managed_artists.loc[event['artist_id']]\n",
    "                artist_name = artist['alias'] if artist['alias'] else f\"{artist['given_name']} {artist['family_name']}\"\n",
    "                \n",
    "                # Write the event's specifics programs\n",
    "                file.write(f\"{event['date'].strftime('%Y-%m-%d')}: {artist_name} at {event['place']}\\n\")\n",
    "                file.write(f\"Organized by: {event['organizer']}\\n\\n\")\n",
    "\n",
    "        print(f\"Agent's schedule {agent_id} has been effectively exported to {file_name}.\")\n",
    "    except Exception as e:\n",
    "        print(f\"Error while writing the file: {e}\")\n",
    "\n",
    "#Now, Considering the given related examples and testing it accordingly\n",
    "#Test-related DataFrame examples\n",
    "agents_data = {\n",
    "    'agent_id': [0, 1],\n",
    "    'family_name': ['Smith', 'Jones'],\n",
    "    'given_name': ['John', 'Emily'],\n",
    "    'employment_start': ['2020-01-01', '2019-05-10'],\n",
    "    'employment_end': [None, None],\n",
    "    'salary': [50000, 45000],\n",
    "    'bonus': [0.05, 0.03]\n",
    "}\n",
    "agents = pd.DataFrame(agents_data).set_index('agent_id')\n",
    "\n",
    "artists_data = {\n",
    "    'artist_id': [2, 3, 7, 9],\n",
    "    'family_name': ['Brown', 'Taylor', 'Wilson', 'Davies'],\n",
    "    'given_name': ['Chris', 'Alex', 'Jordan', 'Jamie'],\n",
    "    'alias': ['DJ Chris', '', '', 'Jamie D'],\n",
    "    'category': ['Music', 'Comedy', 'Magic', 'Music'],\n",
    "    'contract_start': ['2019-03-01', '2018-07-01', '2020-01-15', '2022-10-20'],\n",
    "    'contract_end': [None, None, None, None],\n",
    "    'agent_id': [0, 0, 1, 0],\n",
    "    'commission': [0.1, 0.15, 0.2, 0.05]\n",
    "}\n",
    "artists = pd.DataFrame(artists_data).set_index('artist_id')\n",
    "\n",
    "events_data = {\n",
    "    'event_id': [0, 1, 2, 3, 4],\n",
    "    'date': ['2024-01-10', '2024-02-14', '2024-03-05', '2024-04-12', '2024-05-22'],\n",
    "    'organizer': ['Event Corp', 'Party Co', 'Music Live', 'Show Time', 'Entertainment Plus'],\n",
    "    'place': ['London', 'Manchester', 'Birmingham', 'Leeds', 'Glasgow'],\n",
    "    'artist_id': [2, 7, 2, 9, 3],\n",
    "    'fee': [5000, 3000, 6000, 4500, 2500]\n",
    "}\n",
    "events = pd.DataFrame(events_data).set_index('event_id')\n",
    "\n",
    "#Examine the functionality\n",
    "export_agent_schedule('agent0_schedule.txt', 0, '2024-01-01', '2024-12-31')"
   ]
  },
  {
   "cell_type": "markdown",
   "id": "7c883082-6081-4347-857a-e476ac5c755b",
   "metadata": {
    "deletable": false,
    "editable": false,
    "nbgrader": {
     "cell_type": "markdown",
     "checksum": "f52464c2f342fcd726cef3e556217c65",
     "grade": false,
     "grade_id": "cell-d2d9bd5e888ca90c",
     "locked": true,
     "schema_version": 3,
     "solution": false,
     "task": false
    }
   },
   "source": [
    "### (c) Scheduling events [10 marks incl. 3 marks for coding style]"
   ]
  },
  {
   "cell_type": "markdown",
   "id": "c65087bc-8bc6-4a53-852b-daff343d39ac",
   "metadata": {
    "deletable": false,
    "editable": false,
    "nbgrader": {
     "cell_type": "markdown",
     "checksum": "d54808e3bd4abafa99eb021c16957d85",
     "grade": false,
     "grade_id": "cell-0f9cffedd5566761",
     "locked": true,
     "schema_version": 3,
     "solution": false,
     "task": false
    }
   },
   "source": [
    "<div class='alert alert-info'>\n",
    "For the following task, you can (again) re-use the function <code>list_agent_events</code> that you developed in <strong>Exercise 2a</strong>.\n",
    "If you did not manage to write a working <code>list_agent_events</code> function,\n",
    "uncomment the second line in the subsequent code cell. This will provide a definition of <code>list_agent_events</code> that you can use in the following. Note that this definition relies on the auxiliary file <code>__ead__.csv</code>, which must be kept in the same folder as this Jupyter Notebook for the function to work properly.\n",
    "</div>"
   ]
  },
  {
   "cell_type": "code",
   "execution_count": 43,
   "id": "f6ea510a-1440-43e0-91a5-87e026122c06",
   "metadata": {},
   "outputs": [],
   "source": [
    "# Uncomment the following line if you did not manage to write a working `list_agent_events` function in Exercise 2(b)\n",
    "list_agent_events = lambda _1,_2,_3:pd.read_csv('__ead__.csv').query(f\"a=={_1}&'{_2}'<=d&d<='{_3}'\")['e'].to_list()"
   ]
  },
  {
   "cell_type": "markdown",
   "id": "2cbdcd70-b9bf-44c2-897b-92743ab1b185",
   "metadata": {
    "deletable": false,
    "editable": false,
    "jp-MarkdownHeadingCollapsed": true,
    "nbgrader": {
     "cell_type": "markdown",
     "checksum": "5f5ce338dbe1db24394cc0e4e7e9a93e",
     "grade": false,
     "grade_id": "cell-c34aa945ffeb04af",
     "locked": true,
     "schema_version": 3,
     "solution": false,
     "task": false
    }
   },
   "source": [
    "**Write a function** `can_schedule_event` that takes three arguments: a date, a place, and an artist ID. The function should check whether it is possible to schedule an event for the given artist on the provided date and at the specified place, observing the following constraints:\n",
    "\n",
    "- the date must be in the future (at the time of the function call);\n",
    "- the artist must currently be represented by the agency (i.e., their `contract_end` field must be empty/NaN);\n",
    "- every artist can only perform in one event per day;\n",
    "- every agent can only manage one event per day _unless_ the events happen in the same place.\n",
    "\n",
    "If the event is possible under these conditions, the function should return `True`, otherwise it should return `False`.\n",
    "\n",
    "**Test your function** by checking (and printing) whether it is possible to schedule the following three events:\n",
    "\n",
    "| date | place | artist ID |\n",
    "|---|---|---|\n",
    "| 2025-05-05 | Eventim Apollo | 45 |\n",
    "| 2025-05-05 | Studio 338 | 45 |\n",
    "| 2025-06-07 | Royal Albert Hall | 59 |"
   ]
  },
  {
   "cell_type": "code",
   "execution_count": 45,
   "id": "bc63827c-b0ae-4041-980c-c62c32d57666",
   "metadata": {
    "deletable": false,
    "nbgrader": {
     "cell_type": "code",
     "checksum": "27c1a0aec2a1157fb317af3a63ec751f",
     "grade": true,
     "grade_id": "cell-b9f8772dd153afab",
     "locked": false,
     "points": 10,
     "schema_version": 3,
     "solution": true,
     "task": false
    }
   },
   "outputs": [
    {
     "name": "stdout",
     "output_type": "stream",
     "text": [
      "False\n",
      "False\n",
      "False\n"
     ]
    }
   ],
   "source": [
    "# Define the function to check event scheduling feasibility and parameters\n",
    "def can_schedule_event(date, place, artist_id):\n",
    "    \"\"\"\n",
    "    Verifies if the specified artist may be booked for an event at the specified time and location.\n",
    "    \n",
    "    Arguments\n",
    "    - date: [YYYY-MM-DD] formatted string representing the event date.\n",
    "    - place: The event's location.\n",
    "    - artist_id: The performance artist's ID.\n",
    "\n",
    "    Returns: False otherwise, True if the event can be scheduled.\n",
    "    \"\"\"\n",
    "    #Creating a datetime object from the provided date in the [year-month]\n",
    "    date_of_event = pd.to_datetime(date, format='%Y-%m-%d')\n",
    "    \n",
    "    #Accessing the current date\n",
    "    date_of_current = pd.Timestamp.now()\n",
    "    \n",
    "    #Verifying whether the event is scheduled for the future and checking if its not true\n",
    "    if date_of_event <= date_of_current:\n",
    "        return False\n",
    "\n",
    "    #Verify whether the agency is currently representing the artist\n",
    "    artist = artists.loc[artist_id]\n",
    "    # For identifying missing data pd.notna() have been used for it\n",
    "    if pd.notna(artist['contract_end']):\n",
    "        return False\n",
    "\n",
    "    #Verify whether the performer has another engagement on the same day\n",
    "    artist_events_on_date = events[(events['artist_id'] == artist_id) & (events['date'] == date)]\n",
    "    if not artist_events_on_date.empty:\n",
    "        return False\n",
    "\n",
    "    #Check whether the artist's representative is available on the specified day and location\n",
    "    agent_id = artist['agent_id']\n",
    "    agent_events_on_date = events[(events['artist_id'].isin(artists[artists['agent_id'] == agent_id].index)) & (events['date'] == date)]\n",
    "    if not agent_events_on_date.empty:\n",
    "        #Permit if everything takes place in the same location and return False\n",
    "        if not all(agent_events_on_date['place'] == place):\n",
    "            return False\n",
    "\n",
    "    return True\n",
    "\n",
    "#Example DataFrames for testing\n",
    "artists_data = {\n",
    "    'artist_id': [45, 59],\n",
    "    'agent_id': [10, 20],\n",
    "    'contract_end': [None, None]\n",
    "}\n",
    "artists = pd.DataFrame(artists_data).set_index('artist_id')\n",
    "\n",
    "events_data = {\n",
    "    'event_id': [1, 2],\n",
    "    'date': ['2025-05-05', '2025-06-07'],\n",
    "    'place': ['Eventim Apollo', 'Royal Albert Hall'],\n",
    "    'artist_id': [45, 59]\n",
    "}\n",
    "events = pd.DataFrame(events_data).set_index('event_id')\n",
    "events['date'] = pd.to_datetime(events['date'])\n",
    "\n",
    "# Test cases\n",
    "#First printing test case should return False since the artist are already booked\n",
    "print(can_schedule_event('2025-05-05', 'Eventim Apollo', 45)) \n",
    "\n",
    "#Next should be printed False because artist already booked on the exact day\n",
    "print(can_schedule_event('2025-05-05', 'Studio 338', 45))    \n",
    "\n",
    "#Finally this statement appears False since in the first time itself artist have booked it already\n",
    "print(can_schedule_event('2025-06-07', 'Royal Albert Hall', 59)) "
   ]
  },
  {
   "cell_type": "markdown",
   "id": "7451ff00-9c50-4dd0-8b06-914313bc4083",
   "metadata": {
    "deletable": false,
    "editable": false,
    "nbgrader": {
     "cell_type": "markdown",
     "checksum": "7d0a1bcd1bf9856e7b0401081f34f6fe",
     "grade": false,
     "grade_id": "cell-8d3c4ef49ca48359",
     "locked": true,
     "schema_version": 3,
     "solution": false,
     "task": false
    }
   },
   "source": [
    "### (d) Finding suitable agents for artists [10 marks incl. 3 marks for coding style]\n",
    "\n",
    "**Write a function** `suggest_agent` that takes a category as a string and finds the most suitable agent to represent a new artist from that category. The most suitable agent is determined as follows:\n",
    "\n",
    "1. consider the pool of all agents presently working for the agency;\n",
    "1. keep only agents whose number of _currently_ managed artists is less than the average (compared to all active agents);\n",
    "1. rank all of these agents by their expertise in the category, defined as the number of artists an agent has managed from that category (including past artists no longer managed by the agency);\n",
    "1. take the highest-ranked agent from that list.\n",
    "\n",
    "If there is no unique most suitable agent, the function should return a list of the IDs of all most suitable agents according to the above criteria. If there is a unique choice, a list containing just the ID of that agent should be returned. If there is no suitable agent at all, i.e., no agent with experience in the category and fewer-than-average current artists, the function should return an empty list.\n",
    "\n",
    "For example, assume that the DataFrames represent the following circumstances:\n",
    "| agent_id | employment status | number of currently managed artists (all categories) | number of 'music' artists managed (past and present) |\n",
    "|---|---|---|---|\n",
    "| 0 | active | 10 | 4 |\n",
    "| 1 | inactive | - | 7 |\n",
    "| 2 | active | 21 | 8 |\n",
    "| 3 | active | 13 | 11 |\n",
    "\n",
    "After step 1, only agents 0, 2 and 3 are left for consideration because agent 1 is no longer employed by the agency. The average number of currently managed artists is (10 + 21 + 13)/3 = 14.67. Hence, after step 2, agents 0 and 3 remain because agent 2 already manages more than the average.\n",
    "In step 3, we rank the agents by their expertise, meaning that agent 3 (with 11 music artists) ranks above agent 0 (with 4 music artists). Consequently, we choose agent 3 in step 4 and thus return `[3]`.\n",
    "\n",
    "**Print** the agent IDs and names for the most suitable agent(s) to represent a 'music' artist."
   ]
  },
  {
   "cell_type": "code",
   "execution_count": 47,
   "id": "230a2086-bc29-48ac-954d-41dfe3a9a6d3",
   "metadata": {
    "deletable": false,
    "nbgrader": {
     "cell_type": "code",
     "checksum": "c74fc45a385f12962a0f678377f6c7ac",
     "grade": true,
     "grade_id": "cell-63763518a983eff3",
     "locked": false,
     "points": 10,
     "schema_version": 3,
     "solution": true,
     "task": false
    }
   },
   "outputs": [
    {
     "name": "stdout",
     "output_type": "stream",
     "text": [
      "The best agents are: \n",
      "Agent_Id: 3, Name: Diana Prince\n"
     ]
    }
   ],
   "source": [
    "#First by defining the function called suggest_agent & with the parameter as the [category]\n",
    "def suggest_agent(category):\n",
    "    \"\"\"\n",
    "    Provide the best agent to represent a new talent in the designated field.\n",
    "    \n",
    "    Parameters: \n",
    "    category: The new artist's category.\n",
    "    \n",
    "    Returns:\n",
    "    list: A list with the IDs of the best agent or agents, or an empty list in the event that there are no appropriate agents.\n",
    "    \"\"\"\n",
    "    #Then, sorting the active agents\n",
    "    active_agents = agents[agents['employment_status'] == 'active']\n",
    "    \n",
    "    #Determine the typical number of artists under management at the moment by calculating the mean \n",
    "    artists_managed_average = active_agents['current_artists_count'].mean()\n",
    "    \n",
    "    #Sort the agents who handle fewer artists than the typical amount\n",
    "    agents_appropriate = active_agents[active_agents['current_artists_count'] < artists_managed_average]\n",
    "\n",
    "    #Check for the agents empty & less than average artists are not managed by any agents \n",
    "    if agents_appropriate.empty:  \n",
    "        return []\n",
    "    \n",
    "    #Determine the skill levels for the designated category\n",
    "    skill_counts = (agent_expertise[agent_expertise['category'] == category].groupby('agent_id')['expertise_count'].sum().reset_index())\n",
    "    \n",
    "    #Combine the appropriate agents competence counts by using the [merge] function taught in the lecture\n",
    "    agents_appropriate = agents_appropriate.merge(skill_counts, on='agent_id',how='left')\n",
    "    agents_appropriate['expertise_count'] = agents_appropriate['expertise_count'].fillna(0)\n",
    "    \n",
    "    #Prior to sorting agents by agent_id, sorting them by skill\n",
    "    agents_appropriate= agents_appropriate.sort_values(by=['expertise_count', 'agent_id'], ascending=[False, True])\n",
    "    \n",
    "    #This function is to determine the value of skill that is highest by accessing appropriate agents \n",
    "    expertise_in_highest = agents_appropriate['expertise_count'].max()\n",
    "    top_agents = agents_appropriate[agents_appropriate['expertise_count'] == expertise_in_highest]\n",
    "    return top_agents['agent_id'].tolist()\n",
    "\n",
    "\n",
    "#Given Dataframe Examples\n",
    "agents_data = {\n",
    "    'agent_id': [0, 1, 2, 3],\n",
    "    'employment_status': ['active', 'inactive', 'active', 'active'],\n",
    "    'current_artists_count': [10, None, 21, 13],\n",
    "    'name':['Alice Johnson', 'Bob Smith', 'Charlie Brown', 'Diana Prince']\n",
    "}\n",
    "agents = pd.DataFrame(agents_data)\n",
    "\n",
    "agent_expertise_data = {\n",
    "    'agent_id': [0, 1, 2, 3],\n",
    "    'category': ['music', 'music', 'music', 'music'],\n",
    "    'expertise_count': [4, 7, 8, 11],\n",
    "}\n",
    "agent_expertise = pd.DataFrame(agent_expertise_data)\n",
    "\n",
    "#Checking the MUSIC category's functionality\n",
    "result = suggest_agent('music')\n",
    "\n",
    "#Printing the results & displaying it by checking the condition \n",
    "if result:\n",
    "    print(\"The best agents are: \")\n",
    "    for agent_id in result:\n",
    "    #Fetching the name of the best agents to display in the output\n",
    "        agent_name = agents.loc[agents['agent_id'] == agent_id, 'name'].values[0]\n",
    "        print(f\"Agent_Id: {agent_id}, Name: {agent_name}\")\n",
    "\n",
    "#If not found print that it did not found\n",
    "else:\n",
    "    print(\"No suitable agent found.\")"
   ]
  },
  {
   "cell_type": "markdown",
   "id": "a7b54dde-977d-4b21-bc91-4096072689d7",
   "metadata": {
    "deletable": false,
    "editable": false,
    "nbgrader": {
     "cell_type": "markdown",
     "checksum": "d00545adac7011fd9f696a4d2c2ef407",
     "grade": false,
     "grade_id": "cell-a974959edece1ef4",
     "locked": true,
     "schema_version": 3,
     "solution": false,
     "task": false
    }
   },
   "source": [
    "## Exercise 3: Analyzing business operations [33 marks]\n",
    "\n",
    "In this exercise, you will analyze some aspects of the agency business operations."
   ]
  },
  {
   "cell_type": "markdown",
   "id": "c087c10a-c536-458e-b41a-03232dd4a62f",
   "metadata": {
    "deletable": false,
    "editable": false,
    "nbgrader": {
     "cell_type": "markdown",
     "checksum": "16debbb846cfdc4afcbd53339de68320",
     "grade": false,
     "grade_id": "cell-803c9cad43e4f395",
     "locked": true,
     "schema_version": 3,
     "solution": false,
     "task": false
    }
   },
   "source": [
    "### (a) Calculating revenue [10 marks incl. 3 marks for coding style]\n",
    "\n",
    "**Calculate the total revenue** the agency made from events in each year since its start of business. Remember that the revenue from a single event is the event fee multiplied by the commission rate of the performing artist.\n",
    "\n",
    "Also **calculate the net revenue after bonus payments** to agents who organized the event (according to the `bonus` column of the agents data file, see [Introduction](#Introduction)).\n",
    "\n",
    "**Visualize both time series** in a single plot, including a legend and meaningful axis labels."
   ]
  },
  {
   "cell_type": "code",
   "execution_count": 50,
   "id": "d9fc22b9-a50c-47fb-958c-7853b0090b75",
   "metadata": {
    "deletable": false,
    "nbgrader": {
     "cell_type": "code",
     "checksum": "ad782868a527a5ea95cf65d6d0b215d2",
     "grade": true,
     "grade_id": "cell-5f6b2fb7f2df464f",
     "locked": false,
     "points": 10,
     "schema_version": 3,
     "solution": true,
     "task": false
    }
   },
   "outputs": [
    {
     "data": {
      "text/plain": [
       "<function matplotlib.pyplot.show(close=None, block=None)>"
      ]
     },
     "execution_count": 50,
     "metadata": {},
     "output_type": "execute_result"
    },
    {
     "data": {
      "image/png": "[encoded data removed]",
      "text/plain": [
       "<Figure size 1000x600 with 1 Axes>"
      ]
     },
     "metadata": {},
     "output_type": "display_data"
    }
   ],
   "source": [
    "#Below line of [COMMAND LINE CODE STYLE] helps to reduce writing the plt.show() to plotting in every graph & I used this matplot library style function from PYTHON.ORG\n",
    "%matplotlib inline\n",
    "\n",
    "#By considering Example DataFrames can analyse the data in the graph\n",
    "events_data = {\n",
    "    'event_id': [1, 2, 3, 4, 5],\n",
    "    'date': ['2022-05-10', '2023-06-15', '2023-07-20', '2024-03-25', '2024-08-30'],\n",
    "    'artist_id': [101, 102, 103, 104, 105],\n",
    "    'agent_id': [0, 1, 0, 2, 3],\n",
    "    'event_fee': [10000, 15000, 20000, 12000, 18000]\n",
    "}\n",
    "artists_data = {\n",
    "    'artist_id': [101, 102, 103, 104, 105],\n",
    "    'commission_rate': [0.1, 0.15, 0.2, 0.1, 0.15]\n",
    "}\n",
    "agents_data = {\n",
    "    'agent_id': [0, 1, 2, 3],\n",
    "    'bonus': [500, 700, 600, 800]\n",
    "}\n",
    "\n",
    "#Data conversion to DataFrames for events, artists, agents\n",
    "events = pd.DataFrame(events_data)\n",
    "artists = pd.DataFrame(artists_data)\n",
    "agents = pd.DataFrame(agents_data)\n",
    "\n",
    "#Merging DataFrames to include agents bonuses & artist commission rates \n",
    "events = events.merge(artists, on='artist_id')\n",
    "events = events.merge(agents, on='agent_id')\n",
    "\n",
    "#Obtaining the year by converting the date column to date-time format\n",
    "events['date'] = pd.to_datetime(events['date'])\n",
    "events['year'] = events['date'].dt.year\n",
    "\n",
    "#Estimating the total revenue and net revenue\n",
    "events['revenue'] = events['event_fee'] * events['commission_rate']\n",
    "events['net_revenue'] = events['revenue'] - events['bonus']\n",
    "\n",
    "#Grouping the total income & net income for the year\n",
    "revenue_yearly = events.groupby('year')['revenue'].sum()\n",
    "net_revenue_yearly = events.groupby('year')['net_revenue'].sum()\n",
    "\n",
    "# Plotting the time series\n",
    "plt.figure(figsize=(10, 6))\n",
    "#Line plot for the Gross revenue \n",
    "plt.plot(revenue_yearly, label='Gross Revenue', marker='*', linestyle='-', color='yellow')\n",
    "#Line plot for the Total net revenue\n",
    "plt.plot(net_revenue_yearly, label='Toatal Net Revenue', marker='*', linestyle='--', color='red')\n",
    "#Assigning a title for the plotted graph\n",
    "plt.title('Gross Revenue and Net Revenue Over Time', fontsize= 16)\n",
    "#Labeling 'x' & 'y' axis \n",
    "plt.xlabel('Number of Years', fontsize=18)\n",
    "plt.ylabel('Money', fontsize=18)\n",
    "plt.legend()\n",
    "#By using gca() can give better visualisation for the background of the graph\n",
    "plt.gca().set_facecolor('grey')\n",
    "#This grid function helps to point out the exact values \n",
    "plt.grid(True)\n",
    "plt.show"
   ]
  },
  {
   "attachments": {
    "80e4260b-7318-4c8e-a1b4-710d7baf1ca8.png": {
     "image/png": "[encoded data removed]"
    }
   },
   "cell_type": "markdown",
   "id": "706e334d-1f40-413e-a361-9817e120aa7f",
   "metadata": {
    "deletable": false,
    "editable": false,
    "nbgrader": {
     "cell_type": "markdown",
     "checksum": "77415c7bd627ef17bddc2ec5db23820e",
     "grade": false,
     "grade_id": "cell-c8b07e355ff9d21c",
     "locked": true,
     "schema_version": 3,
     "solution": false,
     "task": false
    }
   },
   "source": [
    "### (b) Analyzing revenue [10 marks]\n",
    "\n",
    "Interpret the evolution of the agency's revenue and bonus payments over time. What functional relationship do you observe? Can you identify what drives the observed evolution? Do you notice a trend in the agency's bonus scheme?\n",
    "\n",
    "If you did not manage to extract the revenue information in the previous exercise, you can base (parts of) your analysis on the following plot, but you might still want to look into other aspects of the agency's history:\n",
    "![revenue.png](attachment:80e4260b-7318-4c8e-a1b4-710d7baf1ca8.png)\n",
    "\n",
    "Type your answer in the following Markdown cell. If you'd like to provide additional outputs (plots, tables, ...) to support your analysis, use the code cell below. You can also insert further code and/or Markdown cells."
   ]
  },
  {
   "cell_type": "markdown",
   "id": "9bc7b255-6e56-40b2-a403-347780c9147e",
   "metadata": {
    "deletable": false,
    "nbgrader": {
     "cell_type": "markdown",
     "checksum": "3a348a97247ba5b79a26a301718e72cc",
     "grade": true,
     "grade_id": "cell-795f1f9cded78353",
     "locked": false,
     "points": 10,
     "schema_version": 3,
     "solution": true,
     "task": false
    }
   },
   "source": [
    "## EXPLANATION:-\n",
    "#### Observing the above-plotted graph agency's revenue and bonus payouts across the period allows to spot a number of important trends such as:-\n",
    "\n",
    "**Raising Revenue:** The overall gradual increase in the agency's revenue shows that the company's event revenue is increasing. A climb in event costs, a growth in the frequency and quantity of the events, and even a progressively improved rate of commission from the artists could be the reason factors for this.\n",
    "\n",
    "**The Incentive Payment:** Considering they are expanding less quickly compared to the revenue, incentives given to the agents are also expanding and moving faster. This suggests that even though the agency's income is increasing, the incentive system for agents may not be linked to the overall revenue but rather dependent on the quantity or quality of events.\n",
    "\n",
    "**Technical Connection:** This task looks like the primary issue behind the rise in incentive payments that rise in revenue. The bonus payouts however, rise gradually compared to the revenue, which can indicate that the bonuses are determined by a set amount of the agency's income or based on particular event factors, so as the value of the event control or as the number of events an agent offers.\n",
    "\n",
    "#### Factors affecting the evolution of revenue:-\n",
    "\n",
    "**Occurrence Costs:** Given that events are getting higher level as well due to rates usually going up over the years, the higher profits can be related to the boost in occurrence fees.\n",
    "\n",
    "**Artists Commission Prices:** The increased agency income would result through the rise of the money obtained in each event if the artist's rate of commission has similarly increased over time.\n",
    "\n",
    "**Improvement in Events:** Eventually, there may have been additional events that increased the total income. This might be the result of the agency obtaining larger contracts with artists or getting new customers.\n",
    "\n",
    "**Agents Quality and Bonuses:** Agents incentive payments most likely depend upon the number of events they manage or in which the events perform. The growth in agent bonuses might be due to a rise in the number of events, particularly if the bonuses are linked to the agent's income or event fees.\n",
    "\n",
    "\n",
    "#### Layout of the Agency's Bonus Plan:-\n",
    "\n",
    "**1)** Along with the overall agency's revenue, the agent bonus plan continues to be improving and the bonuses are rising over time, which indicates the agency may be promoting agents with larger bonuses as the company advances. It is possible, that the incentive plan is set up to contain bonus payouts or raise them progressively in order to maintain earnings since incentives do not exhibit the same sudden increase as revenue.\n",
    "\n",
    "**2)** Furthermore, bonuses may be growing, but less quickly than revenue, if the bonus system is connected to particular standards like the agent's ability to organize successful events. In this case, the total amount given to agents will always rise as the agency's income increases if it maintains an initial amount of revenue for bonuses.\r\n",
    "\n",
    "\n"
   ]
  },
  {
   "cell_type": "code",
   "execution_count": 53,
   "id": "60e2a6c4-1f13-4055-b80f-e8f24157e139",
   "metadata": {
    "deletable": false,
    "nbgrader": {
     "cell_type": "code",
     "checksum": "6515761b4d85a96c13b51b9152ab8824",
     "grade": true,
     "grade_id": "cell-65a4a154ef4a9549",
     "locked": false,
     "points": 0,
     "schema_version": 3,
     "solution": true,
     "task": false
    }
   },
   "outputs": [],
   "source": [
    "### YOUR CODE HERE\n",
    "## raise NotImplementedError()"
   ]
  },
  {
   "cell_type": "markdown",
   "id": "4b7f5d4d-f580-4aa7-9fe5-b923eef6ae5a",
   "metadata": {
    "deletable": false,
    "editable": false,
    "nbgrader": {
     "cell_type": "markdown",
     "checksum": "dc466bee747baf9f3a2395ce60449767",
     "grade": false,
     "grade_id": "cell-5c6f95416d12c856",
     "locked": true,
     "schema_version": 3,
     "solution": false,
     "task": false
    }
   },
   "source": [
    "### (c) Projecting salary payments [13 marks incl. 3 marks for coding style]\n",
    "\n",
    "For the following task, we only consider agents who are currently employed by the agency, i.e., those whose `employment_end` date is empty/NaN.\n",
    "In other words, you should restrict the analysis to the `active_agents` DataFrame from Exercise 1b.\n",
    "\n",
    "For those currently employed agents, the salaries listed in the `active_agents` DataFrame are the annual salaries as of 2023.\n",
    "We assume that salaries grow on average like the annual inflation rate as measured by the UK Consumer Price Index (CPI).\n",
    "The following table lists projected CPI inflation rates for 2024-2028 (source: [statista.com](https://www.statista.com/statistics/306720/cpi-rate-forecast-uk/)):\n",
    "\n",
    "| year | inflation rate forecast |\n",
    "|:---:|:---:|\n",
    "| 2024 | 2.2 % |\n",
    "| 2025 | 1.5 % |\n",
    "| 2026 | 1.6 % |\n",
    "| 2027 | 1.9 % |\n",
    "| 2028 | 2.0 % |\n",
    "\n",
    "Using these inflation rates, **calculate the agency's expected salary expenditures** (excluding bonus payments) for each year from 2023 (current values) up to and including 2028 in the following three scenarios:\n",
    "\n",
    "**Scenario 1:**\n",
    "The number of employees remains constant (no new hires, no leavings).\n",
    "\n",
    "**Scenario 2:**\n",
    "The agency hires two new agents every year, whose average starting salary is 4 % above the average salaries of all already employed agents in the respective year.\n",
    "\n",
    "**Scenario 3:**\n",
    "Every year, two agents with an average salary leave the agency. In addition, the agency hires four new agents every year, whose average starting salary is 4 % above the average salaries of all already emplyed agents in the respective year.\n",
    "\n",
    "**Display the projection** graphically in a suitable plot."
   ]
  },
  {
   "cell_type": "code",
   "execution_count": 55,
   "id": "7a3b04b0-3532-4801-99b1-9ad8049dc976",
   "metadata": {
    "deletable": false,
    "nbgrader": {
     "cell_type": "code",
     "checksum": "e2fd59f1c6dcf40c30d7f1b40112b299",
     "grade": true,
     "grade_id": "cell-9099cdcc8dae5f43",
     "locked": false,
     "points": 13,
     "schema_version": 3,
     "solution": true,
     "task": false
    }
   },
   "outputs": [
    {
     "data": {
      "image/png": "[encoded data removed]",
      "text/plain": [
       "<Figure size 1000x600 with 1 Axes>"
      ]
     },
     "metadata": {},
     "output_type": "display_data"
    },
    {
     "name": "stdout",
     "output_type": "stream",
     "text": [
      "Table of Projection Salary:\n",
      ",    Number of Years    Scenario: 1    Scenario: 2    Scenario: 3\n",
      "0             2023  150000.000000  150000.000000  150000.000000\n",
      "1             2024  153300.000000  316239.504000  237903.204000\n",
      "2             2025  154533.750000  402892.820846  240504.197601\n",
      "3             2026  157315.814400  500491.762117  246409.570057\n",
      "4             2027  161729.034948  615104.567866  255891.645631\n",
      "5             2028  165612.120480  736101.509038  264350.668500\n"
     ]
    }
   ],
   "source": [
    "#Example information for active agents, where employment_end date is set to NaN\n",
    "active_agents_data = {\n",
    "    'agent_id': [0, 1, 2, 3],\n",
    "    'salary_2023': [30000, 35000, 40000, 45000],\n",
    "    'employment_end': [np.nan, np.nan, np.nan, np.nan]  # All agents are currently employed\n",
    "}\n",
    "\n",
    "#Rates of inflation for 2024–2028\n",
    "rates_of_inflation = {\n",
    "    2024: 0.022,\n",
    "    2025: 0.015,\n",
    "    2026: 0.016,\n",
    "    2027: 0.019,\n",
    "    2028: 0.02\n",
    "}\n",
    "\n",
    "#Transform data from active agents into a DataFrame\n",
    "active_agents = pd.DataFrame(active_agents_data)\n",
    "\n",
    "#Determine the entire cost of salaries for 2023\n",
    "total_salary_of_2023 = active_agents['salary_2023'].sum()\n",
    "\n",
    "# Scenario 1: The number of employees remains constant (no new hires, no leavings)\n",
    "scenario_1 = [total_salary_of_2023 * (1 + rates_of_inflation[year]) ** (year - 2023) if year >= 2024 else total_salary_of_2023 for year in range(2023, 2029)]\n",
    "\n",
    "# Scenario 2: The agency hires two new agents every year, whose average starting salary is 4 % above the average salaries of all already employed agents in the respective yea\n",
    "scenario_2 = []\n",
    "for year in range(2023, 2029):\n",
    "    #Determining the average pay for all active agents in 2023 and the upcoming years\n",
    "    salary_avg = active_agents['salary_2023'].mean() * (1 + rates_of_inflation.get(year, 0)) ** (year - 2023)\n",
    "    #Assigning 4% above average salary\n",
    "    salary_of_new_agent = salary_avg * 1.04  \n",
    "    #Calculating and checking if the whole amount spent on salaries on 2023 year, including those for new agents\n",
    "    if year == 2023:\n",
    "        total_salary = total_salary_of_2023\n",
    "    else:\n",
    "        total_salary = total_salary_of_2023 + 2 * salary_of_new_agent * (year - 2023 + 1)\n",
    "    #Applying Inflation for the total salary\n",
    "    inflation_with_total_salary = total_salary * (1 + rates_of_inflation.get(year, 0)) ** (year - 2023)\n",
    "    #Appending the scenario 2 inflation with total salary\n",
    "    scenario_2.append(inflation_with_total_salary)\n",
    "\n",
    "# Scenario 3: Two agents leave every year and four new hires with 4% higher starting salary\n",
    "scenario_3 = []\n",
    "for year in range(2023, 2029):\n",
    "    #Calculating the average pay for all active agents in 2023 and the coming years\n",
    "    salary_avg = active_agents['salary_2023'].mean() * (1 + rates_of_inflation.get(year, 0)) ** (year - 2023)\n",
    " #Assigning 4% above average salary\n",
    "    salary_of_new_agent = salary_avg * 1.04  \n",
    " #Calculate this year total overall expenditures, taking new hiring and agent departures into account\n",
    "    if year == 2023:\n",
    "        total_salary = total_salary_of_2023\n",
    "    else:\n",
    "        total_salary = total_salary_of_2023 - 2 * salary_avg + 4 * salary_of_new_agent\n",
    "    # Applying inflation for the total salary\n",
    "    inflation_with_total_salary = total_salary * (1 + rates_of_inflation.get(year, 0)) ** (year - 2023)\n",
    "    #Appending the 3rd scenario with inflation of total salary\n",
    "    scenario_3.append(inflation_with_total_salary)\n",
    "\n",
    "#Converting the expected salaries into a DataFrame for simple view\n",
    "projection_of_salary_df = pd.DataFrame({\n",
    "    'Number of Years': list(range(2023, 2029)),\n",
    "    'Scenario: 1': scenario_1,\n",
    "    'Scenario: 2': scenario_2,\n",
    "    'Scenario: 3': scenario_3\n",
    "})\n",
    "\n",
    "# Plotting the salary projections using Dataframes of projection of salary with all 3 scenario's\n",
    "plt.figure(figsize=(10, 6))\n",
    "plt.plot(projection_of_salary_df['Number of Years'], projection_of_salary_df['Scenario: 1'], label='Scenario 1: Persistent Employees', marker='*')\n",
    "plt.plot(projection_of_salary_df['Number of Years'], projection_of_salary_df['Scenario: 2'], label='Scenario 2: New Hires', marker='*')\n",
    "plt.plot(projection_of_salary_df['Number of Years'], projection_of_salary_df['Scenario: 3'], label='Scenario 3: Departures & New Hires', marker='*')\n",
    "plt.title('Estimated Payroll Spends (2023-2028)')\n",
    "plt.xlabel('Years', fontsize=18)\n",
    "plt.ylabel('Salary Expenses(£)', fontsize=18)\n",
    "plt.legend()\n",
    "plt.gca().set_facecolor('lavender')\n",
    "plt.grid(True)\n",
    "plt.show()\n",
    "\n",
    "#Depecting the projection salary table\n",
    "print(f\"Table of Projection Salary:\\n, {projection_of_salary_df}\")"
   ]
  }
 ],
 "metadata": {
  "kernelspec": {
   "display_name": "Python 3 (ipykernel)",
   "language": "python",
   "name": "python3"
  },
  "language_info": {
   "codemirror_mode": {
    "name": "ipython",
    "version": 3
   },
   "file_extension": ".py",
   "mimetype": "text/x-python",
   "name": "python",
   "nbconvert_exporter": "python",
   "pygments_lexer": "ipython3",
   "version": "3.12.4"
  }
 },
 "nbformat": 4,
 "nbformat_minor": 5
}
